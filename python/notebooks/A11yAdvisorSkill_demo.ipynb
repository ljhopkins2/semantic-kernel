{
 "cells": [
  {
   "cell_type": "code",
   "execution_count": 1,
   "metadata": {},
   "outputs": [],
   "source": [
    "from bs4 import BeautifulSoup\n",
    "from difflib import HtmlDiff\n",
    "from IPython.display import Markdown, HTML\n",
    "\n",
    "import semantic_kernel as sk\n",
    "from semantic_kernel.connectors.ai.open_ai import OpenAIChatCompletion"
   ]
  },
  {
   "cell_type": "markdown",
   "metadata": {},
   "source": [
    "# Set up kernel and load `A11yAdvisorSkill`"
   ]
  },
  {
   "cell_type": "code",
   "execution_count": 83,
   "metadata": {},
   "outputs": [
    {
     "data": {
      "text/plain": [
       "<semantic_kernel.kernel.Kernel at 0x11a1ff290>"
      ]
     },
     "execution_count": 83,
     "metadata": {},
     "output_type": "execute_result"
    }
   ],
   "source": [
    "kernel = sk.Kernel()\n",
    "\n",
    "api_key, org_id = sk.openai_settings_from_dot_env()\n",
    "oai_chat_service = OpenAIChatCompletion(\n",
    "    ai_model_id=\"gpt-4\", api_key=api_key, org_id=org_id\n",
    ")\n",
    "kernel.add_chat_service(\"chat-gpt\", oai_chat_service)\n"
   ]
  },
  {
   "cell_type": "code",
   "execution_count": 84,
   "metadata": {},
   "outputs": [],
   "source": [
    "skills_directory = \"../../samples/skills\"\n",
    "\n",
    "a11y_skills = kernel.import_semantic_skill_from_directory(\n",
    "    skills_directory, \"A11yAdvisorSkill\"\n",
    ")"
   ]
  },
  {
   "cell_type": "code",
   "execution_count": 85,
   "metadata": {},
   "outputs": [
    {
     "data": {
      "text/markdown": [
       "\n",
       "### The `A11yAdvisorSkill` skill\n",
       "| Function | Description |\n",
       "| --- | --- |\n",
       "| `WcagAssessment` | Assess a code segment presumed to have an accessibility issue, identifying the relevant WCAG criteria and techniques |\n",
       "| `A11yAdvice` | Provide advice on fixing an accessibility issue in a code segment, given an expert assessment and relevant WCAG criteria and techniques |\n",
       "| `ImplementA11yAdvice` | Rewrite a code segment based on expert advice |\n",
       "| `A11yAdviceSummary` | Summarize accessibility advice |\n",
       "| `A11yAdviceTitle` | Create a navigation bar title for an accessibility advice conversation |\n"
      ],
      "text/plain": [
       "<IPython.core.display.Markdown object>"
      ]
     },
     "execution_count": 85,
     "metadata": {},
     "output_type": "execute_result"
    }
   ],
   "source": [
    "assessment_skill = a11y_skills[\"WcagAssessment\"]\n",
    "advice_skill = a11y_skills[\"A11yAdvice\"]\n",
    "title_skill = a11y_skills[\"A11yAdviceTitle\"]\n",
    "summary_skill = a11y_skills[\"A11yAdviceSummary\"]\n",
    "implement_skill = a11y_skills[\"ImplementA11yAdvice\"]\n",
    "\n",
    "md_str = f\"\"\"\n",
    "### The `A11yAdvisorSkill` skill\n",
    "| Function | Description |\n",
    "| --- | --- |\n",
    "\"\"\"\n",
    "for skill_name, skill in a11y_skills.items():\n",
    "    md_str += f\"| `{skill_name}` | {skill.description} |\\n\"\n",
    "\n",
    "Markdown(md_str)"
   ]
  },
  {
   "cell_type": "markdown",
   "metadata": {},
   "source": [
    "# Run `WcagAssessment` and `A11yAdvice` functions"
   ]
  },
  {
   "cell_type": "code",
   "execution_count": 5,
   "metadata": {},
   "outputs": [],
   "source": [
    "# Set up test data\n",
    "test_data = {\n",
    "    \"filename\": \"test.html\",\n",
    "    \"code_before\": \"</li></ul>\",\n",
    "    \"code_after\": BeautifulSoup(\n",
    "        \"\"\"</div><ul class=\"lSPager lSGallery\" style=\"margin-top: 5px; transition-duration: 400ms; width: 2471.61px; transform: translate3d(0px, 0px, 0px);\">\"\"\",\n",
    "        \"html.parser\",\n",
    "    ).prettify(),\n",
    "    \"code_to_assess\": BeautifulSoup(\n",
    "        \"\"\"<div class=\"lSAction\"><a class=\"lSPrev\"></a><a class=\"lSNext\"></a></div>\"\"\",\n",
    "        \"html.parser\",\n",
    "    ).prettify(),\n",
    "}"
   ]
  },
  {
   "cell_type": "code",
   "execution_count": 6,
   "metadata": {},
   "outputs": [
    {
     "data": {
      "text/markdown": [
       "## Code snippet being assessed\n",
       "```html\n",
       "<!-- code before -->\n",
       "</li></ul>\n",
       "<!-- code being assessed -->\n",
       "<div class=\"lSAction\">\n",
       " <a class=\"lSPrev\">\n",
       " </a>\n",
       " <a class=\"lSNext\">\n",
       " </a>\n",
       "</div>\n",
       "<!-- code after -->\n",
       "<ul class=\"lSPager lSGallery\" style=\"margin-top: 5px; transition-duration: 400ms; width: 2471.61px; transform: translate3d(0px, 0px, 0px);\">\n",
       "</ul>\n",
       "...\n",
       "```"
      ],
      "text/plain": [
       "<IPython.core.display.Markdown object>"
      ]
     },
     "execution_count": 6,
     "metadata": {},
     "output_type": "execute_result"
    }
   ],
   "source": [
    "Markdown(\n",
    "    \"## Code snippet being assessed\\n\"\n",
    "    \"```html\\n\"\n",
    "    + \"<!-- code before -->\\n\"\n",
    "    + test_data[\"code_before\"]\n",
    "    + \"\\n<!-- code being assessed -->\\n\"\n",
    "    + test_data[\"code_to_assess\"].strip()\n",
    "    + \"\\n<!-- code after -->\\n\"\n",
    "    + test_data[\"code_after\"].strip()\n",
    "    + \"\\n...\\n```\"\n",
    ")"
   ]
  },
  {
   "cell_type": "markdown",
   "metadata": {},
   "source": [
    "## With AE rule code in context"
   ]
  },
  {
   "cell_type": "code",
   "execution_count": 7,
   "metadata": {},
   "outputs": [],
   "source": [
    "wcag_assessment_context_w_rule_code = kernel.create_new_context()\n",
    "\n",
    "for k, v in test_data.items():\n",
    "    wcag_assessment_context_w_rule_code[k] = v\n",
    "\n",
    "wcag_assessment_context_w_rule_code[\"rule_code\"] = \"linkSamePageOrButtonShouldBeButton\"\n",
    "\n",
    "assessment_w_rule_code = await assessment_skill.invoke_async(\n",
    "    context=wcag_assessment_context_w_rule_code\n",
    ")"
   ]
  },
  {
   "cell_type": "code",
   "execution_count": 8,
   "metadata": {},
   "outputs": [],
   "source": [
    "advice_context = kernel.create_new_context()\n",
    "\n",
    "advice_context[\"wcag_assessment\"] = str(assessment_w_rule_code)\n",
    "advice_context[\"code_segment\"] = test_data[\"code_to_assess\"]\n",
    "\n",
    "advice_context\n",
    "\n",
    "advice_w_rule_code = await advice_skill.invoke_async(context=advice_context)"
   ]
  },
  {
   "cell_type": "code",
   "execution_count": 9,
   "metadata": {},
   "outputs": [
    {
     "data": {
      "text/markdown": [
       "### Assessment\n",
       "- The `a` elements with classes `lSPrev` and `lSNext` do not have `href` attributes, which means they are likely being used as buttons. This is not semantically correct and can cause accessibility issues. They should be replaced with `button` elements.\n",
       "\n",
       "### Relevant success criteria\n",
       "- 4.1.2 Name, Role, Value\n",
       "\n",
       "### Relevant techniques\n",
       "- H91: Using HTML form controls and links\n",
       "\n",
       "----\n",
       "### Advice\n",
       "\n",
       "Consider replacing the `a` elements with classes `lSPrev` and `lSNext` with `button` elements. This will improve the semantic correctness of your code and enhance its accessibility. Here's how you might do it:\n",
       "\n",
       "```html\n",
       "<div class=\"lSAction\">\n",
       " <button class=\"lSPrev\">\n",
       " </button>\n",
       " <button class=\"lSNext\">\n",
       " </button>\n",
       "</div>\n",
       "```\n",
       "\n",
       "This change ensures that these elements are recognized as buttons by assistive technologies, improving the user experience for those relying on such tools."
      ],
      "text/plain": [
       "<IPython.core.display.Markdown object>"
      ]
     },
     "execution_count": 9,
     "metadata": {},
     "output_type": "execute_result"
    }
   ],
   "source": [
    "Markdown(\n",
    "    str(assessment_w_rule_code)\n",
    "    + \"\\n\\n----\\n### Advice\\n\\n\"\n",
    "    + str(advice_w_rule_code)\n",
    ")"
   ]
  },
  {
   "cell_type": "markdown",
   "metadata": {},
   "source": [
    "## Without AE rule code in context"
   ]
  },
  {
   "cell_type": "code",
   "execution_count": 10,
   "metadata": {},
   "outputs": [],
   "source": [
    "wcag_assessment_context = kernel.create_new_context()\n",
    "\n",
    "for k, v in test_data.items():\n",
    "    wcag_assessment_context[k] = v\n",
    "\n",
    "assessment = await assessment_skill.invoke_async(context=wcag_assessment_context)"
   ]
  },
  {
   "cell_type": "code",
   "execution_count": 11,
   "metadata": {},
   "outputs": [],
   "source": [
    "advice_context = kernel.create_new_context()\n",
    "\n",
    "advice_context[\"wcag_assessment\"] = str(assessment)\n",
    "advice_context[\"code_segment\"] = test_data[\n",
    "    \"code_to_assess\"\n",
    "]\n",
    "\n",
    "advice_context\n",
    "\n",
    "advice = await advice_skill.invoke_async(\n",
    "    context=advice_context\n",
    ")"
   ]
  },
  {
   "cell_type": "code",
   "execution_count": 12,
   "metadata": {},
   "outputs": [
    {
     "data": {
      "text/markdown": [
       "### Assessment\n",
       "- The `a` elements with classes `lSPrev` and `lSNext` are missing accessible names. This can be fixed by adding an `aria-label` attribute or by including text within the `a` elements.\n",
       "- The `div` with class `lSAction` could benefit from a role attribute to better communicate its purpose to assistive technologies.\n",
       "\n",
       "### Relevant success criteria\n",
       "- 4.1.2 Name, Role, Value\n",
       "\n",
       "### Relevant techniques\n",
       "- ARIA6: Using `aria-label` to provide labels for objects\n",
       "- ARIA14: Using `aria-label` to provide an invisible label where a visible label cannot be used\n",
       "- ARIA16: Using `aria-labelledby` to provide a name for user interface controls\n",
       "\n",
       "----\n",
       "### Advice\n",
       "\n",
       "Consider adding an `aria-label` attribute to the `a` elements with classes `lSPrev` and `lSNext`. This will provide accessible names for these elements. For example:\n",
       "\n",
       "```html\n",
       "<a class=\"lSPrev\" aria-label=\"Previous\">\n",
       "</a>\n",
       "<a class=\"lSNext\" aria-label=\"Next\">\n",
       "</a>\n",
       "```\n",
       "\n",
       "Also, you might want to add a role attribute to the `div` with class `lSAction` to better communicate its purpose to assistive technologies. For instance:\n",
       "\n",
       "```html\n",
       "<div class=\"lSAction\" role=\"navigation\">\n",
       "</div>\n",
       "```"
      ],
      "text/plain": [
       "<IPython.core.display.Markdown object>"
      ]
     },
     "execution_count": 12,
     "metadata": {},
     "output_type": "execute_result"
    }
   ],
   "source": [
    "Markdown(str(assessment) + \"\\n\\n----\\n### Advice\\n\\n\" + str(advice))"
   ]
  },
  {
   "cell_type": "markdown",
   "metadata": {},
   "source": [
    "# Run `A11yAdviceSummary` & `A11yAdviceTitle` functions"
   ]
  },
  {
   "cell_type": "code",
   "execution_count": 13,
   "metadata": {},
   "outputs": [
    {
     "data": {
      "text/markdown": [
       "Adding `aria-label` to `lSPrev` and `lSNext`, `role` to `lSAction`"
      ],
      "text/plain": [
       "<IPython.core.display.Markdown object>"
      ]
     },
     "execution_count": 13,
     "metadata": {},
     "output_type": "execute_result"
    }
   ],
   "source": [
    "title_context = kernel.create_new_context()\n",
    "title_context[\"wcag_advice\"] = str(advice)\n",
    "title_context[\"code_segment\"] = test_data[\"code_to_assess\"]\n",
    "\n",
    "title = await title_skill.invoke_async(context=title_context)\n",
    "\n",
    "Markdown(str(title))"
   ]
  },
  {
   "cell_type": "code",
   "execution_count": 14,
   "metadata": {},
   "outputs": [
    {
     "data": {
      "text/markdown": [
       "Add `aria-label` to `a` elements with `lSPrev` and `lSNext` classes. Assign a role attribute to `div` with `lSAction` class for assistive technologies."
      ],
      "text/plain": [
       "<IPython.core.display.Markdown object>"
      ]
     },
     "execution_count": 14,
     "metadata": {},
     "output_type": "execute_result"
    }
   ],
   "source": [
    "summary_context = kernel.create_new_context()\n",
    "summary_context[\"wcag_advice\"] = str(advice)\n",
    "\n",
    "summary = await summary_skill.invoke_async(context=summary_context)\n",
    "\n",
    "Markdown(str(summary))"
   ]
  },
  {
   "cell_type": "markdown",
   "metadata": {},
   "source": [
    "# Run `ImplementA11yAdvice` function"
   ]
  },
  {
   "cell_type": "code",
   "execution_count": 15,
   "metadata": {},
   "outputs": [
    {
     "data": {
      "text/markdown": [
       "```html\n",
       "<div class=\"lSAction\" role=\"navigation\">\n",
       " <a class=\"lSPrev\" aria-label=\"Previous\">\n",
       " </a>\n",
       " <a class=\"lSNext\" aria-label=\"Next\">\n",
       " </a>\n",
       "</div>\n",
       "```"
      ],
      "text/plain": [
       "<IPython.core.display.Markdown object>"
      ]
     },
     "execution_count": 15,
     "metadata": {},
     "output_type": "execute_result"
    }
   ],
   "source": [
    "implement_context = kernel.create_new_context()\n",
    "implement_context[\"wcag_assessment\"] = str(assessment)\n",
    "implement_context[\"wcag_advice\"] = str(advice)\n",
    "implement_context[\"code_segment\"] = test_data[\"code_to_assess\"]\n",
    "\n",
    "implemented_code = await implement_skill.invoke_async(context=implement_context)\n",
    "\n",
    "Markdown(str(implemented_code))"
   ]
  },
  {
   "cell_type": "code",
   "execution_count": 81,
   "metadata": {},
   "outputs": [
    {
     "data": {
      "text/html": [
       "<!DOCTYPE html PUBLIC \"-//W3C//DTD XHTML 1.0 Transitional//EN\"\n",
       "          \"http://www.w3.org/TR/xhtml1/DTD/xhtml1-transitional.dtd\">\n",
       "<html>\n",
       " <head>\n",
       "  <meta content=\"text/html; charset=utf-8\" http-equiv=\"Content-Type\"/>\n",
       "  <title>\n",
       "  </title>\n",
       "  <style type=\"text/css\">\n",
       "   table.diff {font-family:Courier; border:medium;}\n",
       "        .diff_header {background-color:#e0e0e0}\n",
       "        td.diff_header {text-align:right}\n",
       "        .diff_next {background-color:#c0c0c0}\n",
       "        .diff_add {background-color:#aaffaa}\n",
       "        .diff_chg {background-color:#ffff77}\n",
       "        .diff_sub {background-color:#ffaaaa}\n",
       "    \n",
       "    td {text-align: left;}\n",
       "  </style>\n",
       " </head>\n",
       " <body>\n",
       "  <table cellpadding=\"0\" cellspacing=\"0\" class=\"diff\" id=\"difflib_chg_to36__top\" rules=\"groups\">\n",
       "   <colgroup>\n",
       "   </colgroup>\n",
       "   <colgroup>\n",
       "   </colgroup>\n",
       "   <colgroup>\n",
       "   </colgroup>\n",
       "   <colgroup>\n",
       "   </colgroup>\n",
       "   <colgroup>\n",
       "   </colgroup>\n",
       "   <colgroup>\n",
       "   </colgroup>\n",
       "   <thead>\n",
       "    <tr>\n",
       "     <th class=\"diff_next\">\n",
       "      <br/>\n",
       "     </th>\n",
       "     <th class=\"diff_header\" colspan=\"2\">\n",
       "      Original\n",
       "     </th>\n",
       "     <th class=\"diff_next\">\n",
       "      <br/>\n",
       "     </th>\n",
       "     <th class=\"diff_header\" colspan=\"2\">\n",
       "      Implemented\n",
       "     </th>\n",
       "    </tr>\n",
       "   </thead>\n",
       "   <tbody>\n",
       "    <tr>\n",
       "     <td class=\"diff_next\" id=\"difflib_chg_to36__1\">\n",
       "      <a href=\"#difflib_chg_to36__1\">\n",
       "       n\n",
       "      </a>\n",
       "     </td>\n",
       "     <td class=\"diff_header\" id=\"from36_1\">\n",
       "      1\n",
       "     </td>\n",
       "     <td nowrap=\"nowrap\" style=\"width: 400px\">\n",
       "      <span class=\"diff_sub\">\n",
       "       &lt;div class=\"lSAction\"&gt;\n",
       "      </span>\n",
       "     </td>\n",
       "     <td class=\"diff_next\">\n",
       "      <a href=\"#difflib_chg_to36__1\">\n",
       "       n\n",
       "      </a>\n",
       "     </td>\n",
       "     <td class=\"diff_header\" id=\"to36_1\">\n",
       "      1\n",
       "     </td>\n",
       "     <td nowrap=\"nowrap\" style=\"width: 400px\">\n",
       "      <span class=\"diff_add\">\n",
       "       &lt;div class=\"lSAction\" role=\"navigation\"&gt;\n",
       "      </span>\n",
       "     </td>\n",
       "    </tr>\n",
       "    <tr>\n",
       "     <td class=\"diff_next\">\n",
       "     </td>\n",
       "     <td class=\"diff_header\" id=\"from36_2\">\n",
       "      2\n",
       "     </td>\n",
       "     <td nowrap=\"nowrap\" style=\"width: 400px\">\n",
       "      <span class=\"diff_sub\">\n",
       "       &lt;a class=\"lSPrev\"&gt;\n",
       "      </span>\n",
       "     </td>\n",
       "     <td class=\"diff_next\">\n",
       "     </td>\n",
       "     <td class=\"diff_header\" id=\"to36_2\">\n",
       "      2\n",
       "     </td>\n",
       "     <td nowrap=\"nowrap\" style=\"width: 400px\">\n",
       "      <span class=\"diff_add\">\n",
       "       &lt;a class=\"lSPrev\" aria-label=\"Previous\"&gt;\n",
       "      </span>\n",
       "     </td>\n",
       "    </tr>\n",
       "    <tr>\n",
       "     <td class=\"diff_next\">\n",
       "     </td>\n",
       "     <td class=\"diff_header\" id=\"from36_3\">\n",
       "      3\n",
       "     </td>\n",
       "     <td nowrap=\"nowrap\" style=\"width: 400px\">\n",
       "      &lt;/a&gt;\n",
       "     </td>\n",
       "     <td class=\"diff_next\">\n",
       "     </td>\n",
       "     <td class=\"diff_header\" id=\"to36_3\">\n",
       "      3\n",
       "     </td>\n",
       "     <td nowrap=\"nowrap\" style=\"width: 400px\">\n",
       "      &lt;/a&gt;\n",
       "     </td>\n",
       "    </tr>\n",
       "    <tr>\n",
       "     <td class=\"diff_next\">\n",
       "      <a href=\"#difflib_chg_to36__top\">\n",
       "       t\n",
       "      </a>\n",
       "     </td>\n",
       "     <td class=\"diff_header\" id=\"from36_4\">\n",
       "      4\n",
       "     </td>\n",
       "     <td nowrap=\"nowrap\" style=\"width: 400px\">\n",
       "      <span class=\"diff_sub\">\n",
       "       &lt;a class=\"lSNext\"&gt;\n",
       "      </span>\n",
       "     </td>\n",
       "     <td class=\"diff_next\">\n",
       "      <a href=\"#difflib_chg_to36__top\">\n",
       "       t\n",
       "      </a>\n",
       "     </td>\n",
       "     <td class=\"diff_header\" id=\"to36_4\">\n",
       "      4\n",
       "     </td>\n",
       "     <td nowrap=\"nowrap\" style=\"width: 400px\">\n",
       "      <span class=\"diff_add\">\n",
       "       &lt;a class=\"lSNext\" aria-label=\"Next\"&gt;\n",
       "      </span>\n",
       "     </td>\n",
       "    </tr>\n",
       "    <tr>\n",
       "     <td class=\"diff_next\">\n",
       "     </td>\n",
       "     <td class=\"diff_header\" id=\"from36_5\">\n",
       "      5\n",
       "     </td>\n",
       "     <td nowrap=\"nowrap\" style=\"width: 400px\">\n",
       "      &lt;/a&gt;\n",
       "     </td>\n",
       "     <td class=\"diff_next\">\n",
       "     </td>\n",
       "     <td class=\"diff_header\" id=\"to36_5\">\n",
       "      5\n",
       "     </td>\n",
       "     <td nowrap=\"nowrap\" style=\"width: 400px\">\n",
       "      &lt;/a&gt;\n",
       "     </td>\n",
       "    </tr>\n",
       "    <tr>\n",
       "     <td class=\"diff_next\">\n",
       "     </td>\n",
       "     <td class=\"diff_header\" id=\"from36_6\">\n",
       "      6\n",
       "     </td>\n",
       "     <td nowrap=\"nowrap\" style=\"width: 400px\">\n",
       "      &lt;/div&gt;\n",
       "     </td>\n",
       "     <td class=\"diff_next\">\n",
       "     </td>\n",
       "     <td class=\"diff_header\" id=\"to36_6\">\n",
       "      6\n",
       "     </td>\n",
       "     <td nowrap=\"nowrap\" style=\"width: 400px\">\n",
       "      &lt;/div&gt;\n",
       "     </td>\n",
       "    </tr>\n",
       "   </tbody>\n",
       "  </table>\n",
       "  <table class=\"diff\" summary=\"Legends\">\n",
       "   <tr>\n",
       "    <th colspan=\"2\">\n",
       "     Legends\n",
       "    </th>\n",
       "   </tr>\n",
       "   <tr>\n",
       "    <td>\n",
       "     <table border=\"\" summary=\"Colors\">\n",
       "      <tr>\n",
       "       <th>\n",
       "        Colors\n",
       "       </th>\n",
       "      </tr>\n",
       "      <tr>\n",
       "       <td class=\"diff_add\">\n",
       "        Added\n",
       "       </td>\n",
       "      </tr>\n",
       "      <tr>\n",
       "       <td class=\"diff_chg\">\n",
       "        Changed\n",
       "       </td>\n",
       "      </tr>\n",
       "      <tr>\n",
       "       <td class=\"diff_sub\">\n",
       "        Deleted\n",
       "       </td>\n",
       "      </tr>\n",
       "     </table>\n",
       "    </td>\n",
       "    <td>\n",
       "     <table border=\"\" summary=\"Links\">\n",
       "      <tr>\n",
       "       <th colspan=\"2\">\n",
       "        Links\n",
       "       </th>\n",
       "      </tr>\n",
       "      <tr>\n",
       "       <td>\n",
       "        (f)irst change\n",
       "       </td>\n",
       "      </tr>\n",
       "      <tr>\n",
       "       <td>\n",
       "        (n)ext change\n",
       "       </td>\n",
       "      </tr>\n",
       "      <tr>\n",
       "       <td>\n",
       "        (t)op\n",
       "       </td>\n",
       "      </tr>\n",
       "     </table>\n",
       "    </td>\n",
       "   </tr>\n",
       "  </table>\n",
       " </body>\n",
       "</html>\n"
      ],
      "text/plain": [
       "<IPython.core.display.HTML object>"
      ]
     },
     "execution_count": 81,
     "metadata": {},
     "output_type": "execute_result"
    }
   ],
   "source": [
    "diff_html = HtmlDiff(wrapcolumn=80).make_file(\n",
    "    fromlines=test_data[\"code_to_assess\"].splitlines(),\n",
    "    tolines=str(implemented_code).splitlines()[1:-1],  # remove md backticks\n",
    "    fromdesc=\"Original\",\n",
    "    todesc=\"Implemented\",\n",
    ")\n",
    "\n",
    "diff_soup = BeautifulSoup(diff_html, \"html.parser\")\n",
    "\n",
    "style_tag = diff_soup.find(\"style\")\n",
    "if style_tag:\n",
    "    new_css = \"\\n    td {text-align: left;}\\n\"\n",
    "    style_tag.string = style_tag.string + new_css\n",
    "\n",
    "col_width = \"400px\"\n",
    "\n",
    "# Find all <td> elements with nowrap=\"nowrap\" and set their width\n",
    "for td in diff_soup.find_all(\"td\", {\"nowrap\": \"nowrap\"}):\n",
    "    # Check if 'style' attribute already exists\n",
    "    if \"style\" in td.attrs:\n",
    "        # Append the width to the existing style\n",
    "        td[\"style\"] = td[\"style\"] + f\"; width: {col_width}\"\n",
    "    else:\n",
    "        # Set the width as the style\n",
    "        td[\"style\"] = f\"width: {col_width}\"\n",
    "\n",
    "\n",
    "# Output the modified HTML\n",
    "HTML(diff_soup.prettify())"
   ]
  }
 ],
 "metadata": {
  "kernelspec": {
   "display_name": ".venv-sk",
   "language": "python",
   "name": "python3"
  },
  "language_info": {
   "codemirror_mode": {
    "name": "ipython",
    "version": 3
   },
   "file_extension": ".py",
   "mimetype": "text/x-python",
   "name": "python",
   "nbconvert_exporter": "python",
   "pygments_lexer": "ipython3",
   "version": "3.11.2"
  }
 },
 "nbformat": 4,
 "nbformat_minor": 2
}
